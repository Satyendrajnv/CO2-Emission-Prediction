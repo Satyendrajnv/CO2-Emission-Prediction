{
 "cells": [
  {
   "cell_type": "markdown",
   "id": "d70d7678",
   "metadata": {},
   "source": [
    "# 📘 CO₂ Emission Prediction Using Multiple Linear Regression"
   ]
  },
  {
   "cell_type": "code",
   "execution_count": null,
   "id": "75217afa",
   "metadata": {},
   "outputs": [],
   "source": [
    "# 📌 Step 1: Import Libraries\n",
    "import pandas as pd\n",
    "import numpy as np\n",
    "import matplotlib.pyplot as plt\n",
    "import seaborn as sns\n",
    "from sklearn.model_selection import train_test_split\n",
    "from sklearn.linear_model import LinearRegression\n",
    "from sklearn.preprocessing import StandardScaler\n",
    "from sklearn.metrics import mean_squared_error, r2_score"
   ]
  },
  {
   "cell_type": "code",
   "execution_count": null,
   "id": "f5bf404c",
   "metadata": {},
   "outputs": [],
   "source": [
    "# 📌 Step 2: Load the Dataset\n",
    "data = pd.read_csv('data.csv')  # Replace with your file path if needed\n",
    "print(\"First 5 rows:\\n\", data.head())"
   ]
  },
  {
   "cell_type": "code",
   "execution_count": null,
   "id": "66138eae",
   "metadata": {},
   "outputs": [],
   "source": [
    "# 📌 Step 3: Explore the Data\n",
    "print(\"\\nData Info:\")\n",
    "print(data.info())\n",
    "print(\"\\nMissing values:\\n\", data.isnull().sum())"
   ]
  },
  {
   "cell_type": "code",
   "execution_count": null,
   "id": "e73d8768",
   "metadata": {},
   "outputs": [],
   "source": [
    "# 📌 Step 4: Select Features and Target\n",
    "X = data[['Volume', 'Weight']]\n",
    "y = data['CO2']"
   ]
  },
  {
   "cell_type": "code",
   "execution_count": null,
   "id": "eba2fcef",
   "metadata": {},
   "outputs": [],
   "source": [
    "# 📌 Step 5: Scale the Features\n",
    "scaler = StandardScaler()\n",
    "X_scaled = scaler.fit_transform(X)"
   ]
  },
  {
   "cell_type": "code",
   "execution_count": null,
   "id": "0a3faf4f",
   "metadata": {},
   "outputs": [],
   "source": [
    "# 📌 Step 6: Split Data into Training and Testing Sets\n",
    "X_train, X_test, y_train, y_test = train_test_split(X_scaled, y, test_size=0.2, random_state=42)"
   ]
  },
  {
   "cell_type": "code",
   "execution_count": null,
   "id": "b5302837",
   "metadata": {},
   "outputs": [],
   "source": [
    "# 📌 Step 7: Train the Linear Regression Model\n",
    "model = LinearRegression()\n",
    "model.fit(X_train, y_train)"
   ]
  },
  {
   "cell_type": "code",
   "execution_count": null,
   "id": "94c54ead",
   "metadata": {},
   "outputs": [],
   "source": [
    "# 📌 Step 8: Evaluate the Model\n",
    "y_pred = model.predict(X_test)\n",
    "r2 = r2_score(y_test, y_pred)\n",
    "mse = mean_squared_error(y_test, y_pred)\n",
    "\n",
    "print(\"\\nModel Evaluation:\")\n",
    "print(f\"R² Score: {r2:.4f}\")\n",
    "print(f\"Mean Squared Error: {mse:.2f}\")\n",
    "print(\"Intercept:\", model.intercept_)\n",
    "print(\"Coefficients (Volume, Weight):\", model.coef_)"
   ]
  },
  {
   "cell_type": "code",
   "execution_count": null,
   "id": "4e85fee3",
   "metadata": {},
   "outputs": [],
   "source": [
    "# 📌 Step 9: Visualize Predictions vs Actual\n",
    "import matplotlib.pyplot as plt\n",
    "\n",
    "plt.figure(figsize=(8, 5))\n",
    "plt.scatter(y_test, y_pred, color='blue')\n",
    "plt.plot([y.min(), y.max()], [y.min(), y.max()], 'r--')  # Diagonal line\n",
    "plt.xlabel(\"Actual CO₂ Emissions\")\n",
    "plt.ylabel(\"Predicted CO₂ Emissions\")\n",
    "plt.title(\"Actual vs Predicted CO₂ Emissions\")\n",
    "plt.grid(True)\n",
    "plt.show()"
   ]
  },
  {
   "cell_type": "code",
   "execution_count": null,
   "id": "81b55145",
   "metadata": {},
   "outputs": [],
   "source": [
    "# 📌 Step 10: Make a Prediction\n",
    "# Example: Engine Volume = 1.3L, Weight = 2300kg\n",
    "sample = np.array([[1.3, 2300]])\n",
    "sample_scaled = scaler.transform(sample)\n",
    "predicted_co2 = model.predict(sample_scaled)\n",
    "print(f\"\\nPredicted CO₂ emission for 1.3L & 2300kg car: {predicted_co2[0]:.2f}g\")"
   ]
  }
 ],
 "metadata": {},
 "nbformat": 4,
 "nbformat_minor": 5
}
